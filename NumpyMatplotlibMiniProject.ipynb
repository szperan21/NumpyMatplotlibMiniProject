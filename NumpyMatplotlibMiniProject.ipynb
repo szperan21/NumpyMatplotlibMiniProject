{
  "nbformat": 4,
  "nbformat_minor": 0,
  "metadata": {
    "colab": {
      "provenance": [],
      "authorship_tag": "ABX9TyPPGoVgoG6aeewKUDXERPmn",
      "include_colab_link": true
    },
    "kernelspec": {
      "name": "python3",
      "display_name": "Python 3"
    },
    "language_info": {
      "name": "python"
    }
  },
  "cells": [
    {
      "cell_type": "markdown",
      "metadata": {
        "id": "view-in-github",
        "colab_type": "text"
      },
      "source": [
        "<a href=\"https://colab.research.google.com/github/szperan21/NumpyMatplotlibMiniProject/blob/main/NumpyMatplotlibMiniProject.ipynb\" target=\"_parent\"><img src=\"https://colab.research.google.com/assets/colab-badge.svg\" alt=\"Open In Colab\"/></a>"
      ]
    },
    {
      "cell_type": "code",
      "execution_count": 2,
      "metadata": {
        "id": "KagYyr3k55Zs"
      },
      "outputs": [],
      "source": [
        "import numpy as np\n",
        "import sys\n",
        "import datetime\n"
      ]
    },
    {
      "cell_type": "code",
      "source": [
        "def inside_circle(total_count):\n",
        "    x = np.random.uniform(size=total_count)\n",
        "    y = np.random.uniform(size=total_count)\n",
        "    radii = np.sqrt(x*x + y*y)\n",
        "    count = len(radii[np.where(radii<=1.0)])\n",
        "    return count\n"
      ],
      "metadata": {
        "id": "r5iat0O26ojt"
      },
      "execution_count": 3,
      "outputs": []
    },
    {
      "cell_type": "code",
      "source": [
        "for loopControl in range(2,10):\n",
        "  start_time = datetime.datetime.now()\n",
        "  n_samples = 10**loopControl\n",
        "  counts = inside_circle(n_samples)\n",
        "  my_pi = 4.0 * counts / n_samples\n",
        "  size_of_float = np.dtype(np.float64).itemsize\n",
        "  memory_required = 3 * n_samples * size_of_float / (1024**3)\n",
        "  end_time = datetime.datetime.now()\n",
        "  elapsed_time = (end_time - start_time).total_seconds()\n",
        "  print(\"N: \", n_samples, \" Pi: \", my_pi, \" Memory: \", memory_required, \"GiB\", \" Time: \", elapsed_time, \"s\")\n"
      ],
      "metadata": {
        "colab": {
          "base_uri": "https://localhost:8080/"
        },
        "id": "LZw1LQJh6omV",
        "outputId": "85c281c8-3e57-40da-b480-e23e26bac4e5"
      },
      "execution_count": null,
      "outputs": [
        {
          "output_type": "stream",
          "name": "stdout",
          "text": [
            "N:  100  Pi:  3.0  Memory:  2.2351741790771484e-06 GiB  Time:  0.038918 s\n",
            "N:  1000  Pi:  3.072  Memory:  2.2351741790771484e-05 GiB  Time:  0.000573 s\n",
            "N:  10000  Pi:  3.1692  Memory:  0.00022351741790771484 GiB  Time:  0.000376 s\n",
            "N:  100000  Pi:  3.14748  Memory:  0.0022351741790771484 GiB  Time:  0.009348 s\n",
            "N:  1000000  Pi:  3.141588  Memory:  0.022351741790771484 GiB  Time:  0.048951 s\n",
            "N:  10000000  Pi:  3.14137  Memory:  0.22351741790771484 GiB  Time:  0.433177 s\n",
            "N:  100000000  Pi:  3.1413994  Memory:  2.2351741790771484 GiB  Time:  3.954162 s\n"
          ]
        }
      ]
    },
    {
      "cell_type": "code",
      "source": [
        "\n"
      ],
      "metadata": {
        "id": "gBupDAST6oom"
      },
      "execution_count": null,
      "outputs": []
    },
    {
      "cell_type": "code",
      "source": [],
      "metadata": {
        "id": "ZUy4PM4O6orE"
      },
      "execution_count": null,
      "outputs": []
    }
  ]
}